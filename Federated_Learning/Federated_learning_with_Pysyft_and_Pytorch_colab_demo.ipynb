{
  "nbformat": 4,
  "nbformat_minor": 0,
  "metadata": {
    "hide_input": false,
    "kernelspec": {
      "name": "python3",
      "display_name": "Python 3"
    },
    "language_info": {
      "codemirror_mode": {
        "name": "ipython",
        "version": 3
      },
      "file_extension": ".py",
      "mimetype": "text/x-python",
      "name": "python",
      "nbconvert_exporter": "python",
      "pygments_lexer": "ipython3",
      "version": "3.7.3"
    },
    "toc": {
      "base_numbering": 1,
      "nav_menu": {},
      "number_sections": true,
      "sideBar": true,
      "skip_h1_title": true,
      "title_cell": "Table of Contents",
      "title_sidebar": "Contents",
      "toc_cell": false,
      "toc_position": {},
      "toc_section_display": true,
      "toc_window_display": false
    },
    "varInspector": {
      "cols": {
        "lenName": 16,
        "lenType": 16,
        "lenVar": 40
      },
      "kernels_config": {
        "python": {
          "delete_cmd_postfix": "",
          "delete_cmd_prefix": "del ",
          "library": "var_list.py",
          "varRefreshCmd": "print(var_dic_list())"
        },
        "r": {
          "delete_cmd_postfix": ") ",
          "delete_cmd_prefix": "rm(",
          "library": "var_list.r",
          "varRefreshCmd": "cat(var_dic_list()) "
        }
      },
      "types_to_exclude": [
        "module",
        "function",
        "builtin_function_or_method",
        "instance",
        "_Feature"
      ],
      "window_display": false
    },
    "colab": {
      "name": "Federated learning with Pysyft and Pytorch colab demo.ipynb",
      "provenance": [],
      "collapsed_sections": []
    },
    "accelerator": "GPU"
  },
  "cells": [
    {
      "cell_type": "code",
      "metadata": {
        "id": "pHrtNGKzU_A6",
        "colab_type": "code",
        "outputId": "374c04c7-7855-4b90-d732-fe0403795e65",
        "colab": {
          "base_uri": "https://localhost:8080/",
          "height": 1000
        }
      },
      "source": [
        "!pip install syft==0.2.0a2"
      ],
      "execution_count": 1,
      "outputs": [
        {
          "output_type": "stream",
          "text": [
            "Collecting syft==0.2.0a2\n",
            "\u001b[?25l  Downloading https://files.pythonhosted.org/packages/ed/92/1d41de2cbb196dc315e083228ad41308107e7a298e7f547106daa756ee0c/syft-0.2.0a2-py3-none-any.whl (337kB)\n",
            "\u001b[K     |████████████████████████████████| 337kB 13.2MB/s \n",
            "\u001b[?25hCollecting lz4>=2.1.6\n",
            "\u001b[?25l  Downloading https://files.pythonhosted.org/packages/e7/81/011fef8766fb0ef681037ad6fee96168ee03a864464986cbaa23e5357704/lz4-3.0.2-cp36-cp36m-manylinux2010_x86_64.whl (1.8MB)\n",
            "\u001b[K     |████████████████████████████████| 1.8MB 40.4MB/s \n",
            "\u001b[?25hRequirement already satisfied: tblib>=1.4.0 in /usr/local/lib/python3.6/dist-packages (from syft==0.2.0a2) (1.6.0)\n",
            "Collecting flask-socketio>=3.3.2\n",
            "  Downloading https://files.pythonhosted.org/packages/66/44/edc4715af85671b943c18ac8345d0207972284a0cd630126ff5251faa08b/Flask_SocketIO-4.2.1-py2.py3-none-any.whl\n",
            "Requirement already satisfied: numpy>=1.16.0 in /usr/local/lib/python3.6/dist-packages (from syft==0.2.0a2) (1.17.5)\n",
            "Collecting torchvision==0.4.1\n",
            "\u001b[?25l  Downloading https://files.pythonhosted.org/packages/fc/23/d418c9102d4054d19d57ccf0aca18b7c1c1f34cc0a136760b493f78ddb06/torchvision-0.4.1-cp36-cp36m-manylinux1_x86_64.whl (10.1MB)\n",
            "\u001b[K     |████████████████████████████████| 10.1MB 51.9MB/s \n",
            "\u001b[?25hCollecting websockets>=7.0\n",
            "\u001b[?25l  Downloading https://files.pythonhosted.org/packages/bb/d9/856af84843912e2853b1b6e898ac8b802989fcf9ecf8e8445a1da263bf3b/websockets-8.1-cp36-cp36m-manylinux2010_x86_64.whl (78kB)\n",
            "\u001b[K     |████████████████████████████████| 81kB 10.9MB/s \n",
            "\u001b[?25hRequirement already satisfied: Flask>=1.0.2 in /usr/local/lib/python3.6/dist-packages (from syft==0.2.0a2) (1.1.1)\n",
            "Collecting websocket-client>=0.56.0\n",
            "\u001b[?25l  Downloading https://files.pythonhosted.org/packages/4c/5f/f61b420143ed1c8dc69f9eaec5ff1ac36109d52c80de49d66e0c36c3dfdf/websocket_client-0.57.0-py2.py3-none-any.whl (200kB)\n",
            "\u001b[K     |████████████████████████████████| 204kB 51.7MB/s \n",
            "\u001b[?25hCollecting zstd>=1.4.0.0\n",
            "\u001b[?25l  Downloading https://files.pythonhosted.org/packages/0b/46/c17843364277eef48437c1ad8d083600c82afab23b6bc8281eae247d0277/zstd-1.4.4.0.tar.gz (469kB)\n",
            "\u001b[K     |████████████████████████████████| 471kB 46.1MB/s \n",
            "\u001b[?25hCollecting msgpack>=0.6.1\n",
            "\u001b[?25l  Downloading https://files.pythonhosted.org/packages/3d/a8/e01fea81691749044a7bfd44536483a296d9c0a7ed4ec8810a229435547c/msgpack-0.6.2-cp36-cp36m-manylinux1_x86_64.whl (249kB)\n",
            "\u001b[K     |████████████████████████████████| 256kB 52.9MB/s \n",
            "\u001b[?25hCollecting torch==1.3\n",
            "\u001b[?25l  Downloading https://files.pythonhosted.org/packages/ae/05/50a05de5337f7a924bb8bd70c6936230642233e424d6a9747ef1cfbde353/torch-1.3.0-cp36-cp36m-manylinux1_x86_64.whl (773.1MB)\n",
            "\u001b[K     |████████████████████████████████| 773.1MB 23kB/s \n",
            "\u001b[?25hCollecting python-socketio>=4.3.0\n",
            "\u001b[?25l  Downloading https://files.pythonhosted.org/packages/11/e0/71c90fbfc534108d0869ff5f92c16e4bc9b1347439b9022e815c03ff4193/python_socketio-4.4.0-py2.py3-none-any.whl (50kB)\n",
            "\u001b[K     |████████████████████████████████| 51kB 8.1MB/s \n",
            "\u001b[?25hRequirement already satisfied: pillow>=4.1.1 in /usr/local/lib/python3.6/dist-packages (from torchvision==0.4.1->syft==0.2.0a2) (6.2.2)\n",
            "Requirement already satisfied: six in /usr/local/lib/python3.6/dist-packages (from torchvision==0.4.1->syft==0.2.0a2) (1.12.0)\n",
            "Requirement already satisfied: Jinja2>=2.10.1 in /usr/local/lib/python3.6/dist-packages (from Flask>=1.0.2->syft==0.2.0a2) (2.10.3)\n",
            "Requirement already satisfied: Werkzeug>=0.15 in /usr/local/lib/python3.6/dist-packages (from Flask>=1.0.2->syft==0.2.0a2) (0.16.0)\n",
            "Requirement already satisfied: itsdangerous>=0.24 in /usr/local/lib/python3.6/dist-packages (from Flask>=1.0.2->syft==0.2.0a2) (1.1.0)\n",
            "Requirement already satisfied: click>=5.1 in /usr/local/lib/python3.6/dist-packages (from Flask>=1.0.2->syft==0.2.0a2) (7.0)\n",
            "Collecting python-engineio>=3.9.0\n",
            "\u001b[?25l  Downloading https://files.pythonhosted.org/packages/97/16/66b05477d6057238e2fc1f8cfb1dfd0b3adad1351c30ad20934f09db5891/python_engineio-3.11.2-py2.py3-none-any.whl (49kB)\n",
            "\u001b[K     |████████████████████████████████| 51kB 8.8MB/s \n",
            "\u001b[?25hRequirement already satisfied: MarkupSafe>=0.23 in /usr/local/lib/python3.6/dist-packages (from Jinja2>=2.10.1->Flask>=1.0.2->syft==0.2.0a2) (1.1.1)\n",
            "Building wheels for collected packages: zstd\n",
            "  Building wheel for zstd (setup.py) ... \u001b[?25l\u001b[?25hdone\n",
            "  Created wheel for zstd: filename=zstd-1.4.4.0-cp36-cp36m-linux_x86_64.whl size=1131241 sha256=1de619420f0bc4f8a1ede1a03128e6814054e577282b9dff91b322095abcda17\n",
            "  Stored in directory: /root/.cache/pip/wheels/ce/0d/5a/3c2ccf5522d1cd3ecdeb2af8c9889179d7a204376b1d5c042d\n",
            "Successfully built zstd\n",
            "Installing collected packages: lz4, python-engineio, python-socketio, flask-socketio, torch, torchvision, websockets, websocket-client, zstd, msgpack, syft\n",
            "  Found existing installation: torch 1.3.1\n",
            "    Uninstalling torch-1.3.1:\n",
            "      Successfully uninstalled torch-1.3.1\n",
            "  Found existing installation: torchvision 0.4.2\n",
            "    Uninstalling torchvision-0.4.2:\n",
            "      Successfully uninstalled torchvision-0.4.2\n",
            "  Found existing installation: msgpack 0.5.6\n",
            "    Uninstalling msgpack-0.5.6:\n",
            "      Successfully uninstalled msgpack-0.5.6\n",
            "Successfully installed flask-socketio-4.2.1 lz4-3.0.2 msgpack-0.6.2 python-engineio-3.11.2 python-socketio-4.4.0 syft-0.2.0a2 torch-1.3.0 torchvision-0.4.1 websocket-client-0.57.0 websockets-8.1 zstd-1.4.4.0\n"
          ],
          "name": "stdout"
        }
      ]
    },
    {
      "cell_type": "code",
      "metadata": {
        "id": "aDH4QhhUVHzu",
        "colab_type": "code",
        "outputId": "b9e55f26-42f1-45e8-c005-a1f9c6bb474d",
        "colab": {
          "base_uri": "https://localhost:8080/",
          "height": 119
        }
      },
      "source": [
        "!git clone https://github.com/Intelligent-Systems-Lab/Private-AI.git"
      ],
      "execution_count": 2,
      "outputs": [
        {
          "output_type": "stream",
          "text": [
            "Cloning into 'Private-AI'...\n",
            "remote: Enumerating objects: 63, done.\u001b[K\n",
            "remote: Counting objects: 100% (63/63), done.\u001b[K\n",
            "remote: Compressing objects: 100% (46/46), done.\u001b[K\n",
            "remote: Total 63 (delta 22), reused 55 (delta 16), pack-reused 0\u001b[K\n",
            "Unpacking objects: 100% (63/63), done.\n"
          ],
          "name": "stdout"
        }
      ]
    },
    {
      "cell_type": "code",
      "metadata": {
        "id": "ULFxu1zQV7n9",
        "colab_type": "code",
        "outputId": "03c79b56-5d56-4291-f2e7-eb867c747c95",
        "colab": {
          "base_uri": "https://localhost:8080/",
          "height": 85
        }
      },
      "source": [
        "!ls Private-AI/Federated_Learning"
      ],
      "execution_count": 3,
      "outputs": [
        {
          "output_type": "stream",
          "text": [
            " Federated_learning_with_Pysyft_and_Pytorch_colab_demo.ipynb\n",
            "'Federated learning with Pysyft and Pytorch.ipynb'\n",
            " handcrafted_GRU.py\n",
            " preprocess.py\n"
          ],
          "name": "stdout"
        }
      ]
    },
    {
      "cell_type": "code",
      "metadata": {
        "id": "NaXU6oULVrWS",
        "colab_type": "code",
        "colab": {}
      },
      "source": [
        "import sys\n",
        "sys.path.append(\"/content/Private-AI/Federated_Learning\")"
      ],
      "execution_count": 0,
      "outputs": []
    },
    {
      "cell_type": "markdown",
      "metadata": {
        "id": "u-5ckqw4U9BE",
        "colab_type": "text"
      },
      "source": [
        "# Federated Learning with PySyft and PyTorch - SMS spam detection"
      ]
    },
    {
      "cell_type": "markdown",
      "metadata": {
        "id": "dbbiIggjU9BH",
        "colab_type": "text"
      },
      "source": [
        "This notebook is an example of usage of [PySyft](https://github.com/OpenMined/PySyft), an open-source library built for Federate Learning and Privacy Preserving. PySyft allows its users to perform private and secure Deep Learning. It is built as an extension of some DL libraries, such as PyTorch, Keras and Tensorflow.\n",
        "\n",
        "In this project I will show how we can use Federated Learning with the PyTorch extension of PySyft for a classification task with a simple 1-layer GRU. \n",
        "\n",
        "The data used for this project was the [SMS Spam Collection Data Set](https://archive.ics.uci.edu/ml/datasets/sms+spam+collection) available on the [UCI Machine Learning Repository](https://archive.ics.uci.edu/ml/index.php). The dataset consists of c. 5500 SMS messages, of which around 13% are spam messages.\n",
        "\n",
        "The objective here is to simulate two remote machines (that we will call Bob and Anne), where each machine have a similar number of labeled datapoints (SMS labeled as spam or not). "
      ]
    },
    {
      "cell_type": "markdown",
      "metadata": {
        "id": "ZTzXxO8lU9BH",
        "colab_type": "text"
      },
      "source": [
        "## Useful imports"
      ]
    },
    {
      "cell_type": "code",
      "metadata": {
        "ExecuteTime": {
          "end_time": "2019-06-03T19:33:40.160008Z",
          "start_time": "2019-06-03T19:33:39.344527Z"
        },
        "id": "A1maeg9VU9BI",
        "colab_type": "code",
        "colab": {}
      },
      "source": [
        "import numpy as np\n",
        "from sklearn.metrics import roc_auc_score\n",
        "\n",
        "import torch\n",
        "from torch import nn, optim\n",
        "from torch.utils.data import TensorDataset, DataLoader\n",
        "\n",
        "import warnings\n",
        "\n",
        "warnings.filterwarnings(\"ignore\")"
      ],
      "execution_count": 0,
      "outputs": []
    },
    {
      "cell_type": "markdown",
      "metadata": {
        "id": "3v01-Zrpv4Zx",
        "colab_type": "text"
      },
      "source": [
        "# Download data & processing"
      ]
    },
    {
      "cell_type": "code",
      "metadata": {
        "id": "yvHrUrdRYd-Z",
        "colab_type": "code",
        "outputId": "86ffa46a-75d1-415c-c92c-a31a138841a5",
        "colab": {
          "base_uri": "https://localhost:8080/",
          "height": 255
        }
      },
      "source": [
        "!mkdir data\n",
        "!wget https://archive.ics.uci.edu/ml/machine-learning-databases/00228/smsspamcollection.zip\n",
        "!unzip smsspamcollection.zip -d data"
      ],
      "execution_count": 6,
      "outputs": [
        {
          "output_type": "stream",
          "text": [
            "--2020-01-21 06:56:30--  https://archive.ics.uci.edu/ml/machine-learning-databases/00228/smsspamcollection.zip\n",
            "Resolving archive.ics.uci.edu (archive.ics.uci.edu)... 128.195.10.252\n",
            "Connecting to archive.ics.uci.edu (archive.ics.uci.edu)|128.195.10.252|:443... connected.\n",
            "HTTP request sent, awaiting response... 200 OK\n",
            "Length: 203415 (199K) [application/x-httpd-php]\n",
            "Saving to: ‘smsspamcollection.zip’\n",
            "\n",
            "smsspamcollection.z 100%[===================>] 198.65K   402KB/s    in 0.5s    \n",
            "\n",
            "2020-01-21 06:56:31 (402 KB/s) - ‘smsspamcollection.zip’ saved [203415/203415]\n",
            "\n",
            "Archive:  smsspamcollection.zip\n",
            "  inflating: data/SMSSpamCollection  \n",
            "  inflating: data/readme             \n"
          ],
          "name": "stdout"
        }
      ]
    },
    {
      "cell_type": "code",
      "metadata": {
        "id": "fSAbD0okYp7v",
        "colab_type": "code",
        "outputId": "1343a3f9-5436-4823-abce-1a4e8ce11e17",
        "colab": {
          "base_uri": "https://localhost:8080/",
          "height": 34
        }
      },
      "source": [
        "!ls data"
      ],
      "execution_count": 7,
      "outputs": [
        {
          "output_type": "stream",
          "text": [
            "readme\tSMSSpamCollection\n"
          ],
          "name": "stdout"
        }
      ]
    },
    {
      "cell_type": "code",
      "metadata": {
        "id": "My4A39anrDmq",
        "colab_type": "code",
        "colab": {}
      },
      "source": [
        "# Edit from https://github.com/andrelmfarias/Private-AI/blob/master/Federated_Learning/preprocess.py\n",
        " !python Private-AI/Federated_Learning/preprocess.py"
      ],
      "execution_count": 0,
      "outputs": []
    },
    {
      "cell_type": "markdown",
      "metadata": {
        "id": "wG5hEJZJU9BL",
        "colab_type": "text"
      },
      "source": [
        "## Loading data"
      ]
    },
    {
      "cell_type": "markdown",
      "metadata": {
        "id": "iRJvULtdU9BL",
        "colab_type": "text"
      },
      "source": [
        "As we are most interested in the usage of PySyft and Federated Learning, I will skip the text-preprocessing part of the project. If you are interested in how I performed the preprocessing of the raw dataset you can take a look on the script [preprocess.py](https://github.com/andrelmfarias/Private-AI/blob/master/Federated_Learning/preprocess.py) available on my [Github page](https://github.com/andrelmfarias/Private-AI).\n",
        "\n",
        "Each data point of the `inputs.npy` dataset correspond to an array of 30 tokens obtained form each message (padded at left or truncated at right)\n",
        "\n",
        "The `label.npy` dataset has the following unique values: `1` for `spam` and `0` for `non-spam`"
      ]
    },
    {
      "cell_type": "code",
      "metadata": {
        "ExecuteTime": {
          "end_time": "2019-06-03T19:33:40.172746Z",
          "start_time": "2019-06-03T19:33:40.163793Z"
        },
        "id": "aAE2RujLU9BM",
        "colab_type": "code",
        "colab": {}
      },
      "source": [
        "inputs = np.load('data/inputs.npy')\n",
        "labels = np.load('data/labels.npy')"
      ],
      "execution_count": 0,
      "outputs": []
    },
    {
      "cell_type": "code",
      "metadata": {
        "id": "lEsXwDXrsvdT",
        "colab_type": "code",
        "outputId": "9c9822b6-5ae4-40da-ce3f-770bda1acac1",
        "colab": {
          "base_uri": "https://localhost:8080/",
          "height": 136
        }
      },
      "source": [
        "print(inputs[:2])\n",
        "print(labels[:2])"
      ],
      "execution_count": 10,
      "outputs": [
        {
          "output_type": "stream",
          "text": [
            "[[   0    0    0    0    0    0    0    0    0    0  167 3674 7665 7192\n",
            "  1972 3424 2569 3255 1196 5875 2310   85 7072 6548 4707 7881 4052 5950\n",
            "  7314 1659]\n",
            " [   0    0    0    0    0    0    0    0    0    0    0    0    0    0\n",
            "     0    0    0    0    0    0    0    0    0    0 4525 7642 4710 7361\n",
            "  1596 3231]]\n",
            "[0 0]\n"
          ],
          "name": "stdout"
        }
      ]
    },
    {
      "cell_type": "code",
      "metadata": {
        "ExecuteTime": {
          "end_time": "2019-06-03T19:33:40.182467Z",
          "start_time": "2019-06-03T19:33:40.176346Z"
        },
        "id": "JCT5rMIRU9BO",
        "colab_type": "code",
        "colab": {}
      },
      "source": [
        "VOCAB_SIZE = int(inputs.max()) + 1"
      ],
      "execution_count": 0,
      "outputs": []
    },
    {
      "cell_type": "markdown",
      "metadata": {
        "id": "IgJBegKQU9BQ",
        "colab_type": "text"
      },
      "source": [
        "## Training model with Federated learning"
      ]
    },
    {
      "cell_type": "markdown",
      "metadata": {
        "id": "TJw0FY8FU9BQ",
        "colab_type": "text"
      },
      "source": [
        "### Training and model hyperparameters"
      ]
    },
    {
      "cell_type": "code",
      "metadata": {
        "ExecuteTime": {
          "end_time": "2019-06-03T19:33:40.207763Z",
          "start_time": "2019-06-03T19:33:40.201292Z"
        },
        "id": "Ii7057cHU9BR",
        "colab_type": "code",
        "colab": {}
      },
      "source": [
        "# Training params\n",
        "EPOCHS = 15\n",
        "CLIP = 5 # gradient clipping - to avoid gradient explosion (frequent in RNNs)\n",
        "lr = 0.1\n",
        "BATCH_SIZE = 32\n",
        "\n",
        "# Model params\n",
        "EMBEDDING_DIM = 50\n",
        "HIDDEN_DIM = 10\n",
        "DROPOUT = 0.2"
      ],
      "execution_count": 0,
      "outputs": []
    },
    {
      "cell_type": "markdown",
      "metadata": {
        "id": "ZwBBCmwrU9BS",
        "colab_type": "text"
      },
      "source": [
        "### Initiating virtual workers with Pysyft"
      ]
    },
    {
      "cell_type": "markdown",
      "metadata": {
        "id": "n6FcAyvkU9BT",
        "colab_type": "text"
      },
      "source": [
        "In this part we are going to separate the dataset in training and test sets following the ratio 80/20. Each of these datasets will be split in two and will be sent to \"Bob's\" and \"Anne's\" machines in order to **simulate remote and private data**.\n",
        "\n",
        "Pleae note that in a real case, such datasets will be already in the remote machines and the preprocessing will be performed before hand by their own devices."
      ]
    },
    {
      "cell_type": "code",
      "metadata": {
        "ExecuteTime": {
          "end_time": "2019-06-03T19:33:41.963634Z",
          "start_time": "2019-06-03T19:33:40.212236Z"
        },
        "id": "EZ6rAMuMU9BU",
        "colab_type": "code",
        "outputId": "d13bb176-23c1-41a9-943a-61bc3a0b6b7f",
        "colab": {
          "base_uri": "https://localhost:8080/",
          "height": 63
        }
      },
      "source": [
        "import syft as sy"
      ],
      "execution_count": 13,
      "outputs": [
        {
          "output_type": "display_data",
          "data": {
            "text/html": [
              "<p style=\"color: red;\">\n",
              "The default version of TensorFlow in Colab will soon switch to TensorFlow 2.x.<br>\n",
              "We recommend you <a href=\"https://www.tensorflow.org/guide/migrate\" target=\"_blank\">upgrade</a> now \n",
              "or ensure your notebook will continue to use TensorFlow 1.x via the <code>%tensorflow_version 1.x</code> magic:\n",
              "<a href=\"https://colab.research.google.com/notebooks/tensorflow_version.ipynb\" target=\"_blank\">more info</a>.</p>\n"
            ],
            "text/plain": [
              "<IPython.core.display.HTML object>"
            ]
          },
          "metadata": {
            "tags": []
          }
        }
      ]
    },
    {
      "cell_type": "code",
      "metadata": {
        "ExecuteTime": {
          "end_time": "2019-06-03T19:33:40.197935Z",
          "start_time": "2019-06-03T19:33:40.186270Z"
        },
        "id": "R5j6qmBnU9BV",
        "colab_type": "code",
        "colab": {}
      },
      "source": [
        "labels = torch.tensor(labels)\n",
        "inputs = torch.tensor(inputs)\n",
        "\n",
        "# splitting training and test data\n",
        "pct_test = 0.2\n",
        "\n",
        "train_labels = labels[:-int(len(labels)*pct_test)]\n",
        "train_inputs = inputs[:-int(len(labels)*pct_test)]\n",
        "\n",
        "test_labels = labels[-int(len(labels)*pct_test):]\n",
        "test_inputs = inputs[-int(len(labels)*pct_test):]"
      ],
      "execution_count": 0,
      "outputs": []
    },
    {
      "cell_type": "code",
      "metadata": {
        "ExecuteTime": {
          "end_time": "2019-06-03T19:33:42.591430Z",
          "start_time": "2019-06-03T19:33:41.969220Z"
        },
        "id": "Y7uWmDhhU9BX",
        "colab_type": "code",
        "colab": {}
      },
      "source": [
        "# Hook that extends the Pytorch library to enable all computations with pointers of tensors sent to other workers\n",
        "hook = sy.TorchHook(torch)\n",
        "\n",
        "# Creating 2 virtual workers\n",
        "bob = sy.VirtualWorker(hook, id=\"bob\")\n",
        "anne = sy.VirtualWorker(hook, id=\"anne\")\n",
        "\n",
        "# threshold indexes for dataset split (one half for Bob, other half for Anne)\n",
        "train_idx = int(len(train_labels)/2)\n",
        "test_idx = int(len(test_labels)/2)\n",
        "\n",
        "# Sending toy datasets to virtual workers\n",
        "bob_train_dataset = sy.BaseDataset(train_inputs[:train_idx], train_labels[:train_idx]).send(bob)\n",
        "anne_train_dataset = sy.BaseDataset(train_inputs[train_idx:], train_labels[train_idx:]).send(anne)\n",
        "bob_test_dataset = sy.BaseDataset(test_inputs[:test_idx], test_labels[:test_idx]).send(bob)\n",
        "anne_test_dataset = sy.BaseDataset(test_inputs[test_idx:], test_labels[test_idx:]).send(anne)\n",
        "\n",
        "# Creating federated datasets, an extension of Pytorch TensorDataset class\n",
        "federated_train_dataset = sy.FederatedDataset([bob_train_dataset, anne_train_dataset])\n",
        "federated_test_dataset = sy.FederatedDataset([bob_test_dataset, anne_test_dataset])\n",
        "\n",
        "# Creating federated dataloaders, an extension of Pytorch DataLoader class\n",
        "federated_train_loader = sy.FederatedDataLoader(federated_train_dataset, shuffle=True, batch_size=BATCH_SIZE)\n",
        "federated_test_loader = sy.FederatedDataLoader(federated_test_dataset, shuffle=False, batch_size=BATCH_SIZE)"
      ],
      "execution_count": 0,
      "outputs": []
    },
    {
      "cell_type": "markdown",
      "metadata": {
        "id": "Ole91lfuU9BZ",
        "colab_type": "text"
      },
      "source": [
        "### Creating simple GRU (1-layer) model with sigmoid activation for classification task"
      ]
    },
    {
      "cell_type": "markdown",
      "metadata": {
        "id": "SOmSAKw6U9BZ",
        "colab_type": "text"
      },
      "source": [
        "Unfortunatelly, the current version of PySyft does not support the RNNs modules of PyTorch yet. However, I was able to handcraft a simple GRU network with linear layers for this project. \n",
        "\n",
        "As the focus of this notebook is the usage of PySyft, I will skip the construction of the model. If you are interested in how I built the model, you can check it out on [handcrafted_GRU.py](https://github.com/andrelmfarias/Private-AI/blob/master/Federated_Learning/handcrafted_GRU.py)."
      ]
    },
    {
      "cell_type": "code",
      "metadata": {
        "ExecuteTime": {
          "end_time": "2019-06-03T19:33:42.613017Z",
          "start_time": "2019-06-03T19:33:42.598004Z"
        },
        "id": "jiHlt_AyU9Ba",
        "colab_type": "code",
        "colab": {}
      },
      "source": [
        "from handcrafted_GRU import GRU"
      ],
      "execution_count": 0,
      "outputs": []
    },
    {
      "cell_type": "code",
      "metadata": {
        "ExecuteTime": {
          "end_time": "2019-06-03T19:33:42.638046Z",
          "start_time": "2019-06-03T19:33:42.617601Z"
        },
        "id": "NI3reLoTU9Bb",
        "colab_type": "code",
        "colab": {}
      },
      "source": [
        "# Initiating the model\n",
        "model = GRU(vocab_size=VOCAB_SIZE, hidden_dim=HIDDEN_DIM, embedding_dim=EMBEDDING_DIM, dropout=DROPOUT)"
      ],
      "execution_count": 0,
      "outputs": []
    },
    {
      "cell_type": "markdown",
      "metadata": {
        "id": "SVFk9Mq2U9Bd",
        "colab_type": "text"
      },
      "source": [
        "### Training"
      ]
    },
    {
      "cell_type": "markdown",
      "metadata": {
        "id": "2J06t7n9U9Be",
        "colab_type": "text"
      },
      "source": [
        "For now, PySyft does not support optimizers with momentum. Therefore, we are going to stick with the classical [Stochastic Gradient Descent](https://pytorch.org/docs/stable/optim.html#torch.optim.SGD) optimizer.\n",
        "\n",
        "As our task consists of a binary classification, we are going to use the [Binary Cross Entropy Loss](https://pytorch.org/docs/stable/nn.html#torch.nn.BCELoss)."
      ]
    },
    {
      "cell_type": "code",
      "metadata": {
        "ExecuteTime": {
          "end_time": "2019-06-03T20:00:23.084933Z",
          "start_time": "2019-06-03T20:00:23.078688Z"
        },
        "id": "x1O-wTd5U9Be",
        "colab_type": "code",
        "colab": {}
      },
      "source": [
        "# Defining loss and optimizer\n",
        "criterion = nn.BCELoss()\n",
        "optimizer = optim.SGD(model.parameters(), lr=lr)"
      ],
      "execution_count": 0,
      "outputs": []
    },
    {
      "cell_type": "markdown",
      "metadata": {
        "id": "ZmPqPbUlU9Bg",
        "colab_type": "text"
      },
      "source": [
        "For each epoch we are going to compute the training and validations losses, as well as the [Area Under the ROC Curve](https://scikit-learn.org/stable/modules/model_evaluation.html#roc-metrics) score due to the fact that the target dataset is unbalaced (only 13% of labels are positive)."
      ]
    },
    {
      "cell_type": "code",
      "metadata": {
        "ExecuteTime": {
          "end_time": "2019-06-03T19:56:01.459697Z",
          "start_time": "2019-06-03T19:33:42.666174Z"
        },
        "code_folding": [],
        "id": "7xvhmpNCU9Bg",
        "colab_type": "code",
        "outputId": "a1cec202-0888-488d-d21a-1be85b4c06ae",
        "colab": {
          "base_uri": "https://localhost:8080/",
          "height": 272
        }
      },
      "source": [
        "for e in range(EPOCHS):\n",
        "    \n",
        "    ######### Training ##########\n",
        "    \n",
        "    losses = []\n",
        "    # Batch loop\n",
        "    for inputs, labels in federated_train_loader:\n",
        "        # Location of current batch\n",
        "        worker = inputs.location\n",
        "        # Initialize hidden state and send it to worker\n",
        "        h = torch.Tensor(np.zeros((BATCH_SIZE, HIDDEN_DIM))).send(worker)\n",
        "        # Send model to current worker\n",
        "        model.send(worker)\n",
        "        # Setting accumulated gradients to zero before backward step\n",
        "        optimizer.zero_grad()\n",
        "        # Output from the model\n",
        "        output, _ = model(inputs, h)\n",
        "        # Calculate the loss and perform backprop\n",
        "        loss = criterion(output.squeeze(), labels.float())\n",
        "        loss.backward()\n",
        "        # Clipping the gradient to avoid explosion\n",
        "        nn.utils.clip_grad_norm_(model.parameters(), CLIP)\n",
        "        # Backpropagation step\n",
        "        optimizer.step() \n",
        "        # Get the model back to the local worker\n",
        "        model.get()\n",
        "        losses.append(loss.get())\n",
        "    \n",
        "    ######## Evaluation ##########\n",
        "    \n",
        "    # Model in evaluation mode\n",
        "    model.eval()\n",
        "\n",
        "    with torch.no_grad():\n",
        "        test_preds = []\n",
        "        test_labels_list = []\n",
        "        eval_losses = []\n",
        "\n",
        "        for inputs, labels in federated_test_loader:\n",
        "            # get current location\n",
        "            worker = inputs.location\n",
        "            # Initialize hidden state and send it to worker\n",
        "            h = torch.Tensor(np.zeros((BATCH_SIZE, HIDDEN_DIM))).send(worker)    \n",
        "            # Send model to worker\n",
        "            model.send(worker)\n",
        "            \n",
        "            output, _ = model(inputs, h)\n",
        "            loss = criterion(output.squeeze(), labels.float())\n",
        "            eval_losses.append(loss.get())\n",
        "            preds = output.squeeze().get()\n",
        "            test_preds += list(preds.numpy())\n",
        "            test_labels_list += list(labels.get().numpy().astype(int))\n",
        "            # Get the model back to the local worker\n",
        "            model.get()\n",
        "        \n",
        "        score = roc_auc_score(test_labels_list, test_preds)\n",
        "    \n",
        "    print(\"Epoch {}/{}...  \\\n",
        "    AUC: {:.3%}...  \\\n",
        "    Training loss: {:.5f}...  \\\n",
        "    Validation loss: {:.5f}\".format(e+1, EPOCHS, score, sum(losses)/len(losses), sum(eval_losses)/len(eval_losses)))\n",
        "    \n",
        "    model.train()"
      ],
      "execution_count": 19,
      "outputs": [
        {
          "output_type": "stream",
          "text": [
            "Epoch 1/15...      AUC: 54.836%...      Training loss: 0.45216...      Validation loss: 0.38871\n",
            "Epoch 2/15...      AUC: 69.985%...      Training loss: 0.38411...      Validation loss: 0.36702\n",
            "Epoch 3/15...      AUC: 80.342%...      Training loss: 0.35860...      Validation loss: 0.33172\n",
            "Epoch 4/15...      AUC: 86.712%...      Training loss: 0.31551...      Validation loss: 0.28082\n",
            "Epoch 5/15...      AUC: 91.629%...      Training loss: 0.26226...      Validation loss: 0.22770\n",
            "Epoch 6/15...      AUC: 95.417%...      Training loss: 0.21381...      Validation loss: 0.17171\n",
            "Epoch 7/15...      AUC: 96.782%...      Training loss: 0.16690...      Validation loss: 0.14016\n",
            "Epoch 8/15...      AUC: 97.048%...      Training loss: 0.13829...      Validation loss: 0.12090\n",
            "Epoch 9/15...      AUC: 97.261%...      Training loss: 0.11875...      Validation loss: 0.11124\n",
            "Epoch 10/15...      AUC: 97.286%...      Training loss: 0.10504...      Validation loss: 0.10892\n",
            "Epoch 11/15...      AUC: 97.669%...      Training loss: 0.09407...      Validation loss: 0.10380\n",
            "Epoch 12/15...      AUC: 97.739%...      Training loss: 0.08227...      Validation loss: 0.10063\n",
            "Epoch 13/15...      AUC: 97.670%...      Training loss: 0.07375...      Validation loss: 0.10067\n",
            "Epoch 14/15...      AUC: 97.689%...      Training loss: 0.06702...      Validation loss: 0.09874\n",
            "Epoch 15/15...      AUC: 97.574%...      Training loss: 0.06369...      Validation loss: 0.09918\n"
          ],
          "name": "stdout"
        }
      ]
    },
    {
      "cell_type": "markdown",
      "metadata": {
        "id": "kb_PIyY4U9Bj",
        "colab_type": "text"
      },
      "source": [
        "## Conclusion"
      ]
    },
    {
      "cell_type": "markdown",
      "metadata": {
        "id": "BWL_YdL1U9Bk",
        "colab_type": "text"
      },
      "source": [
        "We can see that with the PySyft library and its PyTorch extension, we can perform operations with tensor pointers such as we can do with PyTorch API (but for some limitations that are still to be addressed). \n",
        "\n",
        "Thanks to this, we were able to train spam detector model without having any access to the remote and private data: for each batch we sent the model to the current remote worker and got it back to the local machine before sending it to the worker of the next batch.\n",
        "\n",
        "We can also notice that this federated training did not harm the performance of the model as both losses reduced at each epoch as expected and the final AUC score on the test data was above 97.5%.\n",
        "\n",
        "There is however one limitation of this method: by getting the model back we can still have access to some private information. \n",
        "Let's say Bob had only one SMS on his machine. When we get the model back, we can just check which embeddings of the model changed and we will know which were the tokens (words) of the SMS.\n",
        "\n",
        "In order to address this issue, there are two solutions: Differential Privacy and Secured Multi-Party Computation (SMPC). Differential Privacy would be used to make sure the model does not give access to some private information. SMPC, which is one kind of Encrypted Computation, in return allows you to send the model privately so that the remote workers which have the data cannot see the weights you are using.\n",
        "\n",
        "I will show how can we perform these techniques with PySyft in a next tutorial.\n",
        "\n",
        "Et voilà!"
      ]
    }
  ]
}